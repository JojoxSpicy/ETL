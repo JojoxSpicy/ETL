{
 "cells": [
  {
   "cell_type": "code",
   "execution_count": null,
   "metadata": {},
   "outputs": [
    {
     "name": "stdout",
     "output_type": "stream",
     "text": [
      "Datos convertidos a CSV exitosamente en: C:/Base de datos/Linkedlin/ETL/Data\\spacex_launches.csv\n"
     ]
    }
   ],
   "source": [
    "import requests\n",
    "import pandas as pd\n",
    "import os\n",
    "\n",
    "# URL de la API de SpaceX\n",
    "url = \"https://api.spacexdata.com/v4/launches\"\n",
    "\n",
    "# Realizar la solicitud GET\n",
    "response = requests.get(url)\n",
    "\n",
    "# Verificar si la solicitud fue exitosa\n",
    "if response.status_code == 200:\n",
    "    # Convertir los datos JSON a un diccionario\n",
    "    data = response.json()\n",
    "\n",
    "    # Convertir el JSON en un DataFrame de pandas\n",
    "    df = pd.json_normalize(data)  # Normaliza el JSON para convertirlo en un formato tabular\n",
    "\n",
    "    # Ruta donde se guardará el archivo CSV\n",
    "    output_dir = \"C:/Base de datos/Linkedlin/ETL/Data\"  # Asegúrate de que la carpeta 'data' exista\n",
    "    # os.makedirs(output_dir, exist_ok=True)  # Crea la carpeta si no existe\n",
    "\n",
    "    # Nombre del archivo CSV\n",
    "    csv_file_path = os.path.join(output_dir, \"spacex_launches.csv\")\n",
    "\n",
    "    # Guardar el DataFrame en el archivo CSV\n",
    "    df.to_csv(csv_file_path, index=False)\n",
    "\n",
    "    print(f\"Datos convertidos a CSV exitosamente en: {csv_file_path}\")\n",
    "else:\n",
    "    print(f\"Error {response.status_code}: {response.text}\")\n"
   ]
  }
 ],
 "metadata": {
  "kernelspec": {
   "display_name": "Python 3",
   "language": "python",
   "name": "python3"
  },
  "language_info": {
   "codemirror_mode": {
    "name": "ipython",
    "version": 3
   },
   "file_extension": ".py",
   "mimetype": "text/x-python",
   "name": "python",
   "nbconvert_exporter": "python",
   "pygments_lexer": "ipython3",
   "version": "3.11.4"
  }
 },
 "nbformat": 4,
 "nbformat_minor": 2
}
