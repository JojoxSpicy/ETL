{
 "cells": [
  {
   "cell_type": "code",
   "execution_count": null,
   "metadata": {},
   "outputs": [],
   "source": [
    "import pandas as pd"
   ]
  },
  {
   "cell_type": "code",
   "execution_count": 2,
   "metadata": {},
   "outputs": [],
   "source": [
    "Df_file = \"../data/spacex_launches.csv\"\n",
    "\n",
    "Df = pd.read_csv(Df_file)"
   ]
  },
  {
   "cell_type": "code",
   "execution_count": 4,
   "metadata": {},
   "outputs": [
    {
     "data": {
      "text/plain": [
       "(205, 43)"
      ]
     },
     "execution_count": 4,
     "metadata": {},
     "output_type": "execute_result"
    }
   ],
   "source": [
    "Df.shape"
   ]
  },
  {
   "cell_type": "code",
   "execution_count": 5,
   "metadata": {},
   "outputs": [
    {
     "data": {
      "text/plain": [
       "Index(['static_fire_date_utc', 'static_fire_date_unix', 'net', 'window',\n",
       "       'rocket', 'success', 'failures', 'details', 'crew', 'ships', 'capsules',\n",
       "       'payloads', 'launchpad', 'flight_number', 'name', 'date_utc',\n",
       "       'date_unix', 'date_local', 'date_precision', 'upcoming', 'cores',\n",
       "       'auto_update', 'tbd', 'launch_library_id', 'id', 'fairings.reused',\n",
       "       'fairings.recovery_attempt', 'fairings.recovered', 'fairings.ships',\n",
       "       'links.patch.small', 'links.patch.large', 'links.reddit.campaign',\n",
       "       'links.reddit.launch', 'links.reddit.media', 'links.reddit.recovery',\n",
       "       'links.flickr.small', 'links.flickr.original', 'links.presskit',\n",
       "       'links.webcast', 'links.youtube_id', 'links.article', 'links.wikipedia',\n",
       "       'fairings'],\n",
       "      dtype='object')"
      ]
     },
     "execution_count": 5,
     "metadata": {},
     "output_type": "execute_result"
    }
   ],
   "source": [
    "Df.columns"
   ]
  },
  {
   "cell_type": "code",
   "execution_count": null,
   "metadata": {},
   "outputs": [],
   "source": [
    "# Eliminar las columnas no necesarias\n",
    "#Df.drop(['window', 'net','rocket','failures','crew','ships','capsules','payloads','launchpad','date_precision','upcoming','cores','auto_update','tbd','launch_library_id','id','fairings.recovery_attempt','fairings.recovered','fairings.ships','links.flickr.small','links.presskit','fairings'], axis=1, inplace=True)\n",
    "\n",
    "Df.drop(['success'])"
   ]
  },
  {
   "cell_type": "code",
   "execution_count": 22,
   "metadata": {},
   "outputs": [],
   "source": [
    "# Renombrar las columnas en el DataFrame para que coincidan con las de la base de datos\n",
    "Df.rename(columns={'fairings.reused': 'fairings_reused','links.patch.small':'links_patch_small','links.patch.large':'links_patch_large','links.reddit.campaign':'links_reddit_campaign',}, inplace=True)\n",
    "\n",
    "Df.rename(columns={'links.reddit_launch': 'links_reddit_launch','links.reddit.media':'links_reddit_media','links.reddit.recovery':'links_reddit_recovery','links.webcast':'links_webcast'}, inplace=True)\n",
    "\n",
    "Df.rename(columns={'links.youtube_id': 'links_youtube_id','links.article':'links_article','links.wikipedia':'links_wikipedia'}, inplace=True)"
   ]
  },
  {
   "cell_type": "code",
   "execution_count": 30,
   "metadata": {},
   "outputs": [
    {
     "data": {
      "text/plain": [
       "Index(['static_fire_date_utc', 'static_fire_date_unix', 'success', 'details',\n",
       "       'flight_number', 'name', 'date_utc', 'date_unix', 'date_local',\n",
       "       'fairings_reused', 'links_patch_small', 'links_patch_large',\n",
       "       'links_reddit_campaign', 'links_reddit_launch', 'links_reddit_media',\n",
       "       'links_reddit_recovery', 'links_webcast', 'links_youtube_id',\n",
       "       'links_article', 'links_wikipedia'],\n",
       "      dtype='object')"
      ]
     },
     "execution_count": 30,
     "metadata": {},
     "output_type": "execute_result"
    }
   ],
   "source": [
    "Df.columns"
   ]
  },
  {
   "cell_type": "code",
   "execution_count": 10,
   "metadata": {},
   "outputs": [],
   "source": [
    "Df = Df.fillna('Null')"
   ]
  },
  {
   "cell_type": "code",
   "execution_count": 33,
   "metadata": {},
   "outputs": [
    {
     "name": "stderr",
     "output_type": "stream",
     "text": [
      "C:\\Users\\Kike\\AppData\\Local\\Temp\\ipykernel_13088\\2091846091.py:7: FutureWarning: A value is trying to be set on a copy of a DataFrame or Series through chained assignment using an inplace method.\n",
      "The behavior will change in pandas 3.0. This inplace method will never work because the intermediate object on which we are setting values always behaves as a copy.\n",
      "\n",
      "For example, when doing 'df[col].method(value, inplace=True)', try using 'df.method({col: value}, inplace=True)' or df[col] = df[col].method(value) instead, to perform the operation inplace on the original object.\n",
      "\n",
      "\n",
      "  Df['static_fire_date_utc'].replace('NaT', None, inplace=True)\n",
      "C:\\Users\\Kike\\AppData\\Local\\Temp\\ipykernel_13088\\2091846091.py:8: FutureWarning: A value is trying to be set on a copy of a DataFrame or Series through chained assignment using an inplace method.\n",
      "The behavior will change in pandas 3.0. This inplace method will never work because the intermediate object on which we are setting values always behaves as a copy.\n",
      "\n",
      "For example, when doing 'df[col].method(value, inplace=True)', try using 'df.method({col: value}, inplace=True)' or df[col] = df[col].method(value) instead, to perform the operation inplace on the original object.\n",
      "\n",
      "\n",
      "  Df['date_utc'].replace('NaT', None, inplace=True)\n",
      "C:\\Users\\Kike\\AppData\\Local\\Temp\\ipykernel_13088\\2091846091.py:9: FutureWarning: A value is trying to be set on a copy of a DataFrame or Series through chained assignment using an inplace method.\n",
      "The behavior will change in pandas 3.0. This inplace method will never work because the intermediate object on which we are setting values always behaves as a copy.\n",
      "\n",
      "For example, when doing 'df[col].method(value, inplace=True)', try using 'df.method({col: value}, inplace=True)' or df[col] = df[col].method(value) instead, to perform the operation inplace on the original object.\n",
      "\n",
      "\n",
      "  Df['date_local'].replace('NaT', None, inplace=True)\n"
     ]
    }
   ],
   "source": [
    "# Convertir las fechas a UTC primero y luego al formato adecuado para MySQL\n",
    "Df['static_fire_date_utc'] = pd.to_datetime(Df['static_fire_date_utc'], errors='coerce', utc=True).dt.strftime('%Y-%m-%d %H:%M:%S')\n",
    "Df['date_utc'] = pd.to_datetime(Df['date_utc'], errors='coerce', utc=True).dt.strftime('%Y-%m-%d %H:%M:%S')\n",
    "Df['date_local'] = pd.to_datetime(Df['date_local'], errors='coerce', utc=True).dt.strftime('%Y-%m-%d %H:%M:%S')\n",
    "\n",
    "# Reemplazar los valores 'NaT' con None para que se guarden como NULL en la base de datos\n",
    "Df['static_fire_date_utc'].replace('NaT', None, inplace=True)\n",
    "Df['date_utc'].replace('NaT', None, inplace=True)\n",
    "Df['date_local'].replace('NaT', None, inplace=True)\n",
    "\n"
   ]
  },
  {
   "cell_type": "code",
   "execution_count": 46,
   "metadata": {},
   "outputs": [],
   "source": [
    "# Using pandas\n",
    "Df['success'] = Df['success'].replace({'Null': None, 'True': True, 'False': False})\n",
    "\n",
    "# SQLAlchemy method\n",
    "from sqlalchemy import func\n",
    "Df['success'] = Df['success'].apply(lambda x: None if x == 'Null' else (True if x == 'True' else False))"
   ]
  },
  {
   "cell_type": "code",
   "execution_count": 48,
   "metadata": {},
   "outputs": [],
   "source": [
    "# Replace 'Null' with None\n",
    "Df['static_fire_date_unix'] = Df['static_fire_date_unix'].replace('Null', None)\n",
    "\n",
    "# Alternatively, convert to float, using NaN for 'Null'\n",
    "import numpy as np\n",
    "Df['static_fire_date_unix'] = pd.to_numeric(Df['static_fire_date_unix'], errors='coerce')"
   ]
  },
  {
   "cell_type": "code",
   "execution_count": 49,
   "metadata": {},
   "outputs": [],
   "source": [
    "# Guardar el archivo en la carpeta 'data' con el nombre 'spacex_launches_clean.csv'\n",
    "output_path = '../data/spacex_launches_clean.csv'\n",
    "Df.to_csv(output_path, index=False)"
   ]
  },
  {
   "cell_type": "code",
   "execution_count": 53,
   "metadata": {},
   "outputs": [
    {
     "data": {
      "text/html": [
       "<div>\n",
       "<style scoped>\n",
       "    .dataframe tbody tr th:only-of-type {\n",
       "        vertical-align: middle;\n",
       "    }\n",
       "\n",
       "    .dataframe tbody tr th {\n",
       "        vertical-align: top;\n",
       "    }\n",
       "\n",
       "    .dataframe thead th {\n",
       "        text-align: right;\n",
       "    }\n",
       "</style>\n",
       "<table border=\"1\" class=\"dataframe\">\n",
       "  <thead>\n",
       "    <tr style=\"text-align: right;\">\n",
       "      <th></th>\n",
       "      <th>static_fire_date_utc</th>\n",
       "      <th>static_fire_date_unix</th>\n",
       "      <th>success</th>\n",
       "      <th>details</th>\n",
       "      <th>flight_number</th>\n",
       "      <th>name</th>\n",
       "      <th>date_utc</th>\n",
       "      <th>date_unix</th>\n",
       "      <th>date_local</th>\n",
       "      <th>fairings_reused</th>\n",
       "      <th>links_patch_small</th>\n",
       "      <th>links_patch_large</th>\n",
       "      <th>links_reddit_campaign</th>\n",
       "      <th>links_reddit_launch</th>\n",
       "      <th>links_reddit_media</th>\n",
       "      <th>links_reddit_recovery</th>\n",
       "      <th>links_webcast</th>\n",
       "      <th>links_youtube_id</th>\n",
       "      <th>links_article</th>\n",
       "      <th>links_wikipedia</th>\n",
       "    </tr>\n",
       "  </thead>\n",
       "  <tbody>\n",
       "    <tr>\n",
       "      <th>0</th>\n",
       "      <td>2006-03-17 00:00:00</td>\n",
       "      <td>1.142554e+09</td>\n",
       "      <td>False</td>\n",
       "      <td>Engine failure at 33 seconds and loss of vehicle</td>\n",
       "      <td>1</td>\n",
       "      <td>FalconSat</td>\n",
       "      <td>2006-03-24 22:30:00</td>\n",
       "      <td>1143239400</td>\n",
       "      <td>2006-03-24 22:30:00</td>\n",
       "      <td>0.0</td>\n",
       "      <td>https://images2.imgbox.com/94/f2/NN6Ph45r_o.png</td>\n",
       "      <td>https://images2.imgbox.com/5b/02/QcxHUb5V_o.png</td>\n",
       "      <td>Null</td>\n",
       "      <td>Null</td>\n",
       "      <td>Null</td>\n",
       "      <td>Null</td>\n",
       "      <td>https://www.youtube.com/watch?v=0a_00nJ_Y88</td>\n",
       "      <td>0a_00nJ_Y88</td>\n",
       "      <td>https://www.space.com/2196-spacex-inaugural-fa...</td>\n",
       "      <td>https://en.wikipedia.org/wiki/DemoSat</td>\n",
       "    </tr>\n",
       "    <tr>\n",
       "      <th>1</th>\n",
       "      <td>NaN</td>\n",
       "      <td>NaN</td>\n",
       "      <td>False</td>\n",
       "      <td>Successful first stage burn and transition to ...</td>\n",
       "      <td>2</td>\n",
       "      <td>DemoSat</td>\n",
       "      <td>2007-03-21 01:10:00</td>\n",
       "      <td>1174439400</td>\n",
       "      <td>2007-03-21 01:10:00</td>\n",
       "      <td>0.0</td>\n",
       "      <td>https://images2.imgbox.com/f9/4a/ZboXReNb_o.png</td>\n",
       "      <td>https://images2.imgbox.com/80/a2/bkWotCIS_o.png</td>\n",
       "      <td>Null</td>\n",
       "      <td>Null</td>\n",
       "      <td>Null</td>\n",
       "      <td>Null</td>\n",
       "      <td>https://www.youtube.com/watch?v=Lk4zQ2wP-Nc</td>\n",
       "      <td>Lk4zQ2wP-Nc</td>\n",
       "      <td>https://www.space.com/3590-spacex-falcon-1-roc...</td>\n",
       "      <td>https://en.wikipedia.org/wiki/DemoSat</td>\n",
       "    </tr>\n",
       "  </tbody>\n",
       "</table>\n",
       "</div>"
      ],
      "text/plain": [
       "  static_fire_date_utc  static_fire_date_unix  success  \\\n",
       "0  2006-03-17 00:00:00           1.142554e+09    False   \n",
       "1                  NaN                    NaN    False   \n",
       "\n",
       "                                             details  flight_number  \\\n",
       "0   Engine failure at 33 seconds and loss of vehicle              1   \n",
       "1  Successful first stage burn and transition to ...              2   \n",
       "\n",
       "        name             date_utc   date_unix           date_local  \\\n",
       "0  FalconSat  2006-03-24 22:30:00  1143239400  2006-03-24 22:30:00   \n",
       "1    DemoSat  2007-03-21 01:10:00  1174439400  2007-03-21 01:10:00   \n",
       "\n",
       "   fairings_reused                                links_patch_small  \\\n",
       "0              0.0  https://images2.imgbox.com/94/f2/NN6Ph45r_o.png   \n",
       "1              0.0  https://images2.imgbox.com/f9/4a/ZboXReNb_o.png   \n",
       "\n",
       "                                 links_patch_large links_reddit_campaign  \\\n",
       "0  https://images2.imgbox.com/5b/02/QcxHUb5V_o.png                  Null   \n",
       "1  https://images2.imgbox.com/80/a2/bkWotCIS_o.png                  Null   \n",
       "\n",
       "  links_reddit_launch links_reddit_media links_reddit_recovery  \\\n",
       "0                Null               Null                  Null   \n",
       "1                Null               Null                  Null   \n",
       "\n",
       "                                 links_webcast links_youtube_id  \\\n",
       "0  https://www.youtube.com/watch?v=0a_00nJ_Y88      0a_00nJ_Y88   \n",
       "1  https://www.youtube.com/watch?v=Lk4zQ2wP-Nc      Lk4zQ2wP-Nc   \n",
       "\n",
       "                                       links_article  \\\n",
       "0  https://www.space.com/2196-spacex-inaugural-fa...   \n",
       "1  https://www.space.com/3590-spacex-falcon-1-roc...   \n",
       "\n",
       "                         links_wikipedia  \n",
       "0  https://en.wikipedia.org/wiki/DemoSat  \n",
       "1  https://en.wikipedia.org/wiki/DemoSat  "
      ]
     },
     "execution_count": 53,
     "metadata": {},
     "output_type": "execute_result"
    }
   ],
   "source": [
    "# Mostrar el DataFrame para verificar los cambios\n",
    "Df.head(2)"
   ]
  },
  {
   "cell_type": "code",
   "execution_count": 54,
   "metadata": {},
   "outputs": [
    {
     "data": {
      "text/plain": [
       "(205, 20)"
      ]
     },
     "execution_count": 54,
     "metadata": {},
     "output_type": "execute_result"
    }
   ],
   "source": [
    "Df.shape"
   ]
  }
 ],
 "metadata": {
  "kernelspec": {
   "display_name": "Python 3",
   "language": "python",
   "name": "python3"
  },
  "language_info": {
   "codemirror_mode": {
    "name": "ipython",
    "version": 3
   },
   "file_extension": ".py",
   "mimetype": "text/x-python",
   "name": "python",
   "nbconvert_exporter": "python",
   "pygments_lexer": "ipython3",
   "version": "3.11.4"
  }
 },
 "nbformat": 4,
 "nbformat_minor": 2
}
